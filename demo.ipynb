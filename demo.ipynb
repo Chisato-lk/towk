{
 "cells": [
  {
   "cell_type": "code",
   "execution_count": 1,
   "metadata": {},
   "outputs": [
    {
     "name": "stderr",
     "output_type": "stream",
     "text": [
      "\n",
      "Bad key \"text.kerning_factor\" on line 4 in\n",
      "g:\\anaconda\\envs\\bjd\\lib\\site-packages\\matplotlib\\mpl-data\\stylelib\\_classic_test_patch.mplstyle.\n",
      "You probably need to get an updated matplotlibrc file from\n",
      "https://github.com/matplotlib/matplotlib/blob/v3.1.3/matplotlibrc.template\n",
      "or from the matplotlib source distribution\n"
     ]
    }
   ],
   "source": [
    "import os\n",
    "import numpy as np\n",
    "import scipy.io as sio\n",
    "from matplotlib import pyplot as plt\n",
    "from evaluate import gen_ups_main, gen_downs_main, cal_F_D_DD\n",
    "\n",
    "from ChangeFinder import chi2CUSUM"
   ]
  },
  {
   "cell_type": "markdown",
   "metadata": {},
   "source": [
    "# define function "
   ]
  },
  {
   "cell_type": "code",
   "execution_count": 2,
   "metadata": {},
   "outputs": [],
   "source": [
    "param = {'snr':             [5,         0,      -5,     -10,    -15,    -20],\n",
    "         'noise_mean':      [0.03,      0.06,   0.11,   0.2,    0.34,   0.8],\n",
    "         'noise_variance':  [0.0003,    0.001,  0.003,  0.013,    0.03,   0.1],\n",
    "         'signal_mean':     [0.01,      0.98,   0.98,   0.99,   1.02,   1.06],\n",
    "         'signal_variance': [0.0008,    0.0008, 0.014,  0.025,   0.08,   0.22],\n",
    "         'bound':           [0.01,      0.01,   0.01,   0.01,   0.01,   0.02]}\n",
    "\n",
    "def autoCPD(i, snr, ch_data, XDim, threshold):\n",
    "\n",
    "    print('The '+str(i)+'th channel\\n')\n",
    "\n",
    "    #取模，也可以是别的操作\n",
    "    sig_amp = np.abs(ch_data)\n",
    "    X = sig_amp.reshape(-1,1)\n",
    "\n",
    "    # get snr\n",
    "    # snr = int(path.split('/')[-2][3:])\n",
    "    snr_idx = param['snr'].index(snr)\n",
    "\n",
    "    # get param\n",
    "    up = [param['noise_mean'][snr_idx], param['signal_mean'][snr_idx]]\n",
    "    down = [param['signal_mean'][snr_idx], param['noise_mean'][snr_idx]]\n",
    "    sigma = [np.sqrt(param['noise_variance'][snr_idx]), np.sqrt(param['signal_variance'][snr_idx])]\n",
    "    bound = param['bound']\n",
    "    b2_up=(0.1/sigma[0])**2\n",
    "    XDim=1\n",
    "    batchsize = 10\n",
    "\n",
    "    CUSUM = chi2CUSUM(XDim=XDim,threshold=threshold, theta_0 = up[0],sigma=sigma[0], b2=b2_up,r=2)\n",
    "\n",
    "    stats = []\n",
    "\n",
    "    flag='up'\n",
    "    type = []\n",
    "    ups = []\n",
    "    downs = []\n",
    "\n",
    "    for index, sample in enumerate(X):\n",
    "        stat = CUSUM.update(sample)\n",
    "\n",
    "        # # check the statistic\n",
    "        # if flag=='down':\n",
    "        #     k = len(CUSUM.ts) - 1\n",
    "        #     print(CUSUM.calculateSkt_slash(k))\n",
    "\n",
    "\n",
    "        stats.append(stat)\n",
    "        if flag == 'up':\n",
    "            type.append('red')\n",
    "        else:\n",
    "            type.append('green')\n",
    "\n",
    "        if flag == 'down' and np.any(X[index] < bound):\n",
    "            downs.append(index)\n",
    "            print(\"DO NOT DETECT DOWN, SWITCH TO UP\")\n",
    "            # if index > X.shape[0]-batchsize:\n",
    "            #     minibatch = X[index:]\n",
    "            # else:\n",
    "            #     minibatch = X[index:index+batchsize]\n",
    "\n",
    "            # theta_0 = np.mean(minibatch)\n",
    "            # sigma_0 = np.sqrt(np.var(minibatch))\n",
    "            # b2 = (0.1/sigma_0)**2    \n",
    "            # \n",
    "            theta_0  = up[0]\n",
    "            sigma_0  = sigma[0]\n",
    "            b2 = b2_up    \n",
    "            \n",
    "            CUSUM.initialize()\n",
    "            CUSUM.updata_prior(theta_0=theta_0, sigma_0=sigma_0, b2=b2)\n",
    "            # CUSUM = chi2CUSUM(XDim=XDim,threshold=threshold, theta_0 = up[0],sigma=sigma[0], b2=b2_up,r=2)\n",
    "            flag = 'up'\n",
    "            continue\n",
    "\n",
    "        # 上升沿检测器\n",
    "        if stat > threshold and flag=='up':\n",
    "\n",
    "            ups.append(index)\n",
    "            if index > X.shape[0]-batchsize:\n",
    "                minibatch = X[index:]\n",
    "            else:\n",
    "                minibatch = X[index:index+batchsize]\n",
    "\n",
    "            theta_0 = np.mean(minibatch)\n",
    "            sigma_0 = np.sqrt(np.var(minibatch))\n",
    "            b2 = (0.1/sigma_0)**2     \n",
    "\n",
    "            CUSUM.initialize()\n",
    "            CUSUM.updata_prior(theta_0=theta_0, sigma_0=sigma_0, b2=b2)\n",
    "\n",
    "            flag = 'down'\n",
    "            continue\n",
    "\n",
    "        if stat > threshold and flag=='down':\n",
    "\n",
    "            downs.append(index)\n",
    "\n",
    "            # if index > X.shape[0]-batchsize:\n",
    "            #     minibatch = X[index:]\n",
    "            # else:\n",
    "            #     minibatch = X[index:index+batchsize]\n",
    "\n",
    "            # theta_0 = np.mean(minibatch)\n",
    "            # sigma_0 = np.sqrt(np.var(minibatch))\n",
    "            # b2 = (0.1/sigma_0)**2     \n",
    "            theta_0  = up[0]\n",
    "            sigma_0  = sigma[0]\n",
    "            b2 = b2_up\n",
    "\n",
    "            CUSUM.initialize()\n",
    "            CUSUM.updata_prior(theta_0=theta_0, sigma_0=sigma_0, b2=b2)\n",
    "            \n",
    "            flag = 'up'\n",
    "            continue\n",
    "    return i, [ups,downs],stats,type"
   ]
  },
  {
   "cell_type": "markdown",
   "metadata": {},
   "source": [
    "# get data"
   ]
  },
  {
   "cell_type": "code",
   "execution_count": 3,
   "metadata": {},
   "outputs": [
    {
     "data": {
      "text/plain": [
       "array([[ 1852,  2789,     1,     1],\n",
       "       [ 5598,  6535,     3,     1],\n",
       "       [ 8449,  9387,     3,     3],\n",
       "       [11430, 11440,     5,     2],\n",
       "       [12293, 13231,     3,     2],\n",
       "       [13711, 14648,     3,     1],\n",
       "       [17590, 18527,     3,     4]], dtype=uint16)"
      ]
     },
     "execution_count": 3,
     "metadata": {},
     "output_type": "execute_result"
    }
   ],
   "source": [
    "chdata_ex_path = 'ch_sig.mat'\n",
    "chdata=sio.loadmat(chdata_ex_path)\n",
    "chdata.keys()\n",
    "signal = chdata['ch_sig']\n",
    "label = chdata['ch_label']\n",
    "label"
   ]
  },
  {
   "cell_type": "markdown",
   "metadata": {},
   "source": [
    "# plot data"
   ]
  },
  {
   "cell_type": "code",
   "execution_count": 4,
   "metadata": {},
   "outputs": [
    {
     "data": {
      "image/png": "[encoded data removed]",
      "text/plain": [
       "<Figure size 640x480 with 1 Axes>"
      ]
     },
     "metadata": {},
     "output_type": "display_data"
    }
   ],
   "source": [
    "sig = signal[213,:]\n",
    "# sig_next = signal[235,:]\n",
    "# sig = sig_now + sig_next\n",
    "sig_real = np.real(sig)\n",
    "sig_imag = np.imag(sig)\n",
    "sig_amp = np.abs(sig)\n",
    "\n",
    "# sig_amp = np.abs(sig_now) + np.abs(sig_next)\n",
    "plt.plot(sig_amp)\n",
    "X = sig_amp.reshape(-1,1)"
   ]
  },
  {
   "cell_type": "markdown",
   "metadata": {},
   "source": [
    "# autoCPD"
   ]
  },
  {
   "cell_type": "code",
   "execution_count": 8,
   "metadata": {},
   "outputs": [
    {
     "name": "stdout",
     "output_type": "stream",
     "text": [
      "The 213th channel\n",
      "\n"
     ]
    }
   ],
   "source": [
    "XDim=1\n",
    "threshold = 10\n",
    "snr = 0\n",
    "i = 213\n",
    "\n",
    "i, [up,down], stats,types = autoCPD(i, snr, sig, XDim, threshold)"
   ]
  },
  {
   "cell_type": "code",
   "execution_count": 9,
   "metadata": {},
   "outputs": [
    {
     "data": {
      "text/plain": [
       "Text(0, 0.5, 'CPD statistic')"
      ]
     },
     "execution_count": 9,
     "metadata": {},
     "output_type": "execute_result"
    },
    {
     "data": {
      "image/png": "[encoded data removed]",
      "text/plain": [
       "<Figure size 640x480 with 2 Axes>"
      ]
     },
     "metadata": {},
     "output_type": "display_data"
    }
   ],
   "source": [
    "fig = plt.figure()\n",
    "plt.subplot(211)\n",
    "plt.plot(X)\n",
    "plt.ylabel('Value')\n",
    "# plt.xticks([])\n",
    "# plt.title(filepath.split('/')[-2])\n",
    "\n",
    "plt.subplot(212)\n",
    "plt.scatter(range(len(stats)),stats,linestyle='--',c=types)\n",
    "# plt.xlim(0,N)\n",
    "plt.xlabel('Time Step')\n",
    "plt.ylabel('CPD statistic')"
   ]
  },
  {
   "cell_type": "markdown",
   "metadata": {},
   "source": [
    "## evaluate"
   ]
  },
  {
   "cell_type": "code",
   "execution_count": 10,
   "metadata": {},
   "outputs": [
    {
     "data": {
      "text/plain": [
       "array([[ 1852,  2789,     1,     1],\n",
       "       [ 5598,  6535,     3,     1],\n",
       "       [ 8449,  9387,     3,     3],\n",
       "       [11430, 11440,     5,     2],\n",
       "       [12293, 13231,     3,     2],\n",
       "       [13711, 14648,     3,     1],\n",
       "       [17590, 18527,     3,     4]], dtype=uint16)"
      ]
     },
     "execution_count": 10,
     "metadata": {},
     "output_type": "execute_result"
    }
   ],
   "source": [
    "channels = [170,192,213,234]\n",
    "\n",
    "chs_label = [i]\n",
    "ups_label = []\n",
    "mop_label = []\n",
    "downs_label = []\n",
    "for l in label:\n",
    "    if l[3]==3:\n",
    "        ups_label.append(l[0])\n",
    "        downs_label.append(l[1])\n",
    "        mop_label.append(l[2]-1)\n",
    "\n",
    "ups = []\n",
    "downs = []\n",
    "chs = []\n",
    "if len(up)!=0 or len(down)!=0:\n",
    "    ups.append(up)\n",
    "    downs.append(down)\n",
    "    chs.append(i)\n",
    "\n",
    "ups_main = gen_ups_main(chs,chs_label,ups)\n",
    "label\n"
   ]
  },
  {
   "cell_type": "code",
   "execution_count": 11,
   "metadata": {},
   "outputs": [
    {
     "data": {
      "text/plain": [
       "([213], [213], [[8456]])"
      ]
     },
     "execution_count": 11,
     "metadata": {},
     "output_type": "execute_result"
    }
   ],
   "source": [
    "chs,chs_label,ups"
   ]
  },
  {
   "cell_type": "code",
   "execution_count": 12,
   "metadata": {},
   "outputs": [
    {
     "data": {
      "text/plain": [
       "([8449], [8456])"
      ]
     },
     "execution_count": 12,
     "metadata": {},
     "output_type": "execute_result"
    }
   ],
   "source": [
    "ups_label, ups_main"
   ]
  },
  {
   "cell_type": "code",
   "execution_count": 13,
   "metadata": {},
   "outputs": [
    {
     "name": "stdout",
     "output_type": "stream",
     "text": [
      "FAR: 0.0\n",
      "PD: 1.0\n"
     ]
    }
   ],
   "source": [
    "false,alarm_num, detect, pulse_num, DD = cal_F_D_DD(ups_label, ups_main, tol= 1000)\n",
    "print('FAR: '+str(false/alarm_num))\n",
    "print('PD: '+str(detect/pulse_num))"
   ]
  },
  {
   "cell_type": "code",
   "execution_count": null,
   "metadata": {},
   "outputs": [],
   "source": []
  }
 ],
 "metadata": {
  "kernelspec": {
   "display_name": "bjd",
   "language": "python",
   "name": "python3"
  },
  "language_info": {
   "codemirror_mode": {
    "name": "ipython",
    "version": 3
   },
   "file_extension": ".py",
   "mimetype": "text/x-python",
   "name": "python",
   "nbconvert_exporter": "python",
   "pygments_lexer": "ipython3",
   "version": "3.7.6"
  },
  "orig_nbformat": 4
 },
 "nbformat": 4,
 "nbformat_minor": 2
}
